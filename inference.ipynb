{
 "cells": [
  {
   "cell_type": "code",
   "execution_count": null,
   "metadata": {},
   "outputs": [],
   "source": [
    "import torch\n",
    "from peft import PeftModel\n",
    "from transformers import AutoTokenizer, AutoModelForCausalLM"
   ]
  },
  {
   "cell_type": "code",
   "execution_count": null,
   "metadata": {},
   "outputs": [],
   "source": [
    "model_name_or_path = ''\n",
    "lora_path = ''"
   ]
  },
  {
   "cell_type": "code",
   "execution_count": null,
   "metadata": {},
   "outputs": [],
   "source": [
    "tokenizer = AutoTokenizer.from_pretrained(model_name_or_path, use_fast=False)\n",
    "model = AutoModelForCausalLM.from_pretrained(model_name_or_path)"
   ]
  },
  {
   "cell_type": "code",
   "execution_count": null,
   "metadata": {},
   "outputs": [],
   "source": [
    "\n",
    "print(f\"Loading LoRA weights from {lora_path}\")\n",
    "model = PeftModel.from_pretrained(model, lora_path)\n",
    "print(f\"Merging weights\")\n",
    "model = model.merge_and_unload()\n",
    "print(\"Done\")"
   ]
  },
  {
   "cell_type": "code",
   "execution_count": null,
   "metadata": {},
   "outputs": [],
   "source": [
    "def generate_response(\n",
    "    prompt, \n",
    "    do_sample:bool = True, \n",
    "    top_p:float=0.95, \n",
    "    temperature:float=0.7, \n",
    "    num_beams:int = 2,\n",
    "    max_length:int = 512):\n",
    "\n",
    "    with torch.inference_mode():\n",
    "        input_ids = tokenizer.encode(prompt, return_tensors=\"pt\")\n",
    "        output = model.generate(\n",
    "            input_ids, \n",
    "            num_return_sequences=1, \n",
    "            num_beams=num_beams,\n",
    "            temperature=temperature, \n",
    "            do_sample=do_sample, \n",
    "            top_p=top_p,\n",
    "            max_length=max_length)\n",
    "        response = tokenizer.decode(output[0], skip_special_tokens=True)\n",
    "    return response"
   ]
  },
  {
   "cell_type": "code",
   "execution_count": null,
   "metadata": {},
   "outputs": [],
   "source": [
    "prompt = '''\n",
    "Dưới đây là hướng dẫn mô tả bài toán. \\\n",
    "Viết câu trả lời hoàn thành yêu cầu một cách thích hợp\\n\\\n",
    "### Câu hỏi: {question}\\n{choices}\\n\\\n",
    "### Trả lời: \n",
    "'''\n",
    "\n",
    "question = 'Giá trị của biểu thức 47,2 ${\\\\times}$ 5 + 107,1 : 2,5 là:'\n",
    "choices = [\n",
    "            \"A. 137,24\",\n",
    "            \"B. 1372,4\",\n",
    "            \"C. 278,84\",\n",
    "            \"D. 27,884\"\n",
    "         ]\n",
    "choices = '\\n'.join(choices)\n",
    "prompt = prompt.format(question=question, choices = choices)"
   ]
  },
  {
   "cell_type": "code",
   "execution_count": null,
   "metadata": {},
   "outputs": [],
   "source": [
    "generate_args = {\n",
    "    \"num_beams\": 2,\n",
    "    \"temperature\": 0.7, \n",
    "    \"do_sample\": True, \n",
    "    \"top_p\": 0.95,\n",
    "    \"max_length\": 512,\n",
    "}\n",
    "\n",
    "response = generate_response(prompt, **generate_args)\n",
    "parsed_response = response[len(prompt):]\n",
    "\n",
    "print(parsed_response)"
   ]
  }
 ],
 "metadata": {
  "kernelspec": {
   "display_name": "llm",
   "language": "python",
   "name": "python3"
  },
  "language_info": {
   "codemirror_mode": {
    "name": "ipython",
    "version": 3
   },
   "file_extension": ".py",
   "mimetype": "text/x-python",
   "name": "python",
   "nbconvert_exporter": "python",
   "pygments_lexer": "ipython3",
   "version": "3.9.17"
  }
 },
 "nbformat": 4,
 "nbformat_minor": 2
}
